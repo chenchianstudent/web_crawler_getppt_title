{
 "cells": [
  {
   "cell_type": "code",
   "execution_count": 1,
   "metadata": {},
   "outputs": [
    {
     "name": "stdout",
     "output_type": "stream",
     "text": [
      "hello world\n"
     ]
    }
   ],
   "source": [
    "print(\"hello world\")"
   ]
  },
  {
   "cell_type": "code",
   "execution_count": 2,
   "metadata": {},
   "outputs": [],
   "source": [
    "# 一般抓取網頁，基本\n",
    "import requests\n",
    "from bs4 import BeautifulSoup\n",
    "\n",
    "r = requests.get(\"https://www.ptt.cc/bbs/MobileComm/index.html\") #將此頁面的HTML GET下來\n",
    "#print(r.text) #印出HTML\n",
    "soup = BeautifulSoup(r.text,\"html.parser\")\n",
    "sel = soup.find_all('div.title a')\n",
    "#print(sel) "
   ]
  },
  {
   "cell_type": "code",
   "execution_count": 1,
   "metadata": {},
   "outputs": [
    {
     "name": "stdout",
     "output_type": "stream",
     "text": [
      "本頁的URL為https://www.ptt.cc/bbs/joke/index.html\n",
      "/bbs/joke/M.1572443037.A.943.html [ＸＤ] 邏輯教授\n",
      "/bbs/joke/M.1572445100.A.FF5.html [ＸＤ] 世堅舞曲大帝國\n",
      "/bbs/joke/M.1572446665.A.BA7.html [ＸＤ] 邏輯東方\n",
      "/bbs/joke/M.1572447163.A.623.html [耍冷] 臺灣芥川龍之介是誰？\n",
      "/bbs/joke/M.1572448494.A.B18.html [ＸＤ] 邏輯數學\n",
      "/bbs/joke/M.1572449358.A.FBD.html [ＸＤ] 邏輯物理引擎\n",
      "/bbs/joke/M.1572449997.A.EB0.html [ＸＤ] 邏輯打斷\n",
      "/bbs/joke/M.1572451869.A.649.html [耍冷] 邏輯廚師\n",
      "/bbs/joke/M.1572452305.A.4C8.html [ＸＤ] 薛丁格的追蹤器\n",
      "/bbs/joke/M.1572455211.A.F79.html [影音] 這魚肉怎麼那麼滑啊\n",
      "/bbs/joke/M.1572457861.A.F4D.html 出征\n",
      "/bbs/joke/M.1572478474.A.430.html [ＸＤ]你是我的太陽\n",
      "/bbs/joke/M.1572481857.A.ABF.html [耍冷] 什麼癌症會傳染\n",
      "/bbs/joke/M.1572482785.A.8D2.html Fw: [問卦] 台積電logo上面的黑點是甚麼\n",
      "/bbs/joke/M.1522053106.A.755.html [公告] joke版規 (2018/03/26 更新)\n",
      "/bbs/joke/M.1570813203.A.2A0.html [公告] Joke板規討論區(1)發文分類10/26止\n",
      "/bbs/joke/M.1570815366.A.65E.html [公告] Joke板規討論區(2)看板使用10/26止\n",
      "本頁的URL為https://www.ptt.cc/bbs/joke/index6823.html\n",
      "/bbs/joke/M.1572425132.A.94F.html Fw: [新聞] 「來單挑吧」日兩少年在河邊決鬥被捕\n",
      "/bbs/joke/M.1572425882.A.0DB.html [耍冷] 薛丁格爾的笑話\n",
      "/bbs/joke/M.1572426103.A.077.html [耍冷] 閩南人跟美國人打棒球\n",
      "/bbs/joke/M.1572427464.A.697.html [趣圖] 阿北跟韓導是師徒的有力證據\n",
      "/bbs/joke/M.1572428237.A.270.html [猜謎] 行程計算題\n",
      "/bbs/joke/M.1572429674.A.540.html [ＸＤ] 客家人拍攻殼機動隊電影 會怎麼拍?\n",
      "/bbs/joke/M.1572431143.A.EB0.html [影音] 眼球中央電視台 韓國瑜的追蹤器在哪？\n",
      "/bbs/joke/M.1572432704.A.5A1.html  [重要] 邏輯系列最好笑\n",
      "/bbs/joke/M.1572434232.A.6CA.html Re: [耍冷] 薛丁格爾的笑話\n",
      "/bbs/joke/M.1572434246.A.837.html Re: [猜謎] 海頓的狗\n",
      "/bbs/joke/M.1572434402.A.015.html Re: [猜謎] 海頓的狗\n",
      "/bbs/joke/M.1572435193.A.069.html [趣圖] 重乳奶茶\n",
      "/bbs/joke/M.1572436647.A.0CD.html [ＸＤ] howfun/我是淘汰郎\n",
      "/bbs/joke/M.1572437271.A.980.html [趣圖] 史上最難的圖片驗證\n",
      "/bbs/joke/M.1572438172.A.0FD.html [地獄] 爸爸在哪裡\n",
      "/bbs/joke/M.1572439823.A.025.html Re: [趣圖] 史上最難的圖片驗證\n",
      "/bbs/joke/M.1572442132.A.C44.html [猜謎] 邏輯題\n",
      "/bbs/joke/M.1572442279.A.78C.html [耍冷] 很懶的宗教\n",
      "本頁的URL為https://www.ptt.cc/bbs/joke/index6822.html\n",
      "/bbs/joke/M.1572408090.A.F33.html Re: [地獄] 心很累\n",
      "/bbs/joke/M.1572408238.A.008.html [耍冷] 有一個中國人餓了好幾天\n",
      "/bbs/joke/M.1572408407.A.FEE.html [影音] 不過就是一塊布而已...!?\n",
      "/bbs/joke/M.1572408666.A.D6B.html [猜謎] 先有火還是先有笑話？\n",
      "/bbs/joke/M.1572408811.A.A19.html [趣圖] 有趣分享集（10-30）\n",
      "/bbs/joke/M.1572410423.A.DD5.html [影音] 川普在稍早在白宮接見習近平\n",
      "/bbs/joke/M.1572410968.A.7F4.html [猜謎] 火車頭\n",
      "/bbs/joke/M.1572411099.A.232.html [耍冷] 推特上在夯什麼 Part.161\n",
      "/bbs/joke/M.1572411319.A.D20.html Re: [猜謎] 海頓的狗\n",
      "/bbs/joke/M.1572412893.A.B7A.html [趣圖] 小7飲料\n",
      "/bbs/joke/M.1572414425.A.DD8.html [ＸＤ] 邏輯哥哥\n",
      "/bbs/joke/M.1572414705.A.141.html [ＸＤ] 邏X輯教授\n",
      "/bbs/joke/M.1572416681.A.520.html [ＸＤ] 阿斗仔大哥...那個不是椅子\n",
      "/bbs/joke/M.1572417189.A.845.html [ＸＤ] 邏輯教授\n",
      "/bbs/joke/M.1572418211.A.F42.html [ＸＤ] 冰鳥你為什麼不幫我發大才怪\n",
      "/bbs/joke/M.1572420376.A.D35.html [ＸＤ] 如果阿北當總統\n",
      "/bbs/joke/M.1572424068.A.A4A.html [猜謎] 很期的中考\n",
      "/bbs/joke/M.1572424740.A.9BB.html [選舉] 邏輯最好笑\n"
     ]
    }
   ],
   "source": [
    "# 抓取多頁的標題\n",
    "import requests\n",
    "from bs4 import BeautifulSoup\n",
    "url = \"https://www.ptt.cc/bbs/joke/index.html\"\n",
    "for i in range(3): \n",
    "    r = requests.get(url)\n",
    "    soup = BeautifulSoup(r.text,\"html.parser\")\n",
    "    sel = soup.select(\"div.title a\") #標題\n",
    "    u = soup.select(\"div.btn-group.btn-group-paging a\") #a標籤\n",
    "    print (\"本頁的URL為\"+url)\n",
    "    url = \"https://www.ptt.cc\"+ u[1][\"href\"] #上一頁的網址\n",
    "    for s in sel:\n",
    "        print(s[\"href\"],s.text)"
   ]
  },
  {
   "cell_type": "code",
   "execution_count": 5,
   "metadata": {},
   "outputs": [
    {
     "name": "stdout",
     "output_type": "stream",
     "text": [
      "----本頁的URL為https://www.ptt.cc/bbs/Gossiping/index.html----\n",
      "/bbs/Gossiping/M.1570172378.A.A86.html [爆卦]香港戒嚴？？ 內有中廣連結。\n",
      "/bbs/Gossiping/M.1570172483.A.344.html Re: [新聞] 柯文哲狂轟不齒、怨恨　陳菊辦酸：他的嘴\n",
      "/bbs/Gossiping/M.1570172614.A.1E7.html Re: [新聞] 南華早報：香港將禁止抗議者戴口罩 違者\n",
      "/bbs/Gossiping/M.1570172652.A.557.html [問卦] 外面賣的食物調味超重是為了什麼\n",
      "/bbs/Gossiping/M.1566347622.A.9C7.html [公告] 八卦板板規(2019.08.21)\n",
      "/bbs/Gossiping/M.1570071469.A.153.html Fw: 尋人 家裡長輩失蹤\n",
      "/bbs/Gossiping/M.1570119567.A.DEC.html [公告] 八卦板板主參選人政見一覽表\n",
      "/bbs/Gossiping/M.1569904195.A.A1C.html [公告] 十月份置底閒聊文 泡茶的賀索債\n",
      "----本頁的URL為https://www.ptt.cc/bbs/Gossiping/index39385.html----\n",
      "/bbs/Gossiping/M.1570171624.A.E53.html Re: [新聞] 沈榮津：ECFA創兩岸雙贏 不至於單方面終\n",
      "/bbs/Gossiping/M.1570171676.A.4C4.html [問卦] 使用者付費是不是自助餐，是個笑話？\n",
      "/bbs/Gossiping/M.1570171763.A.A6A.html [新聞] 香港戒嚴！行政會議通過引用緊急法　午夜\n",
      "/bbs/Gossiping/M.1570171801.A.538.html Re: [新聞] 柯文哲重批陳菊：不是妳上半生坐過牢 下\n",
      "/bbs/Gossiping/M.1570171802.A.7FE.html [新聞] 「想和你交友」女搭話小學男生\n",
      "/bbs/Gossiping/M.1570171918.A.37D.html [新聞] 夭壽！污染近8年 「飲料界鴻海」\n",
      "/bbs/Gossiping/M.1570171957.A.CC7.html [問卦] 請問蒙面加菲貓怎麼辦?\n",
      "/bbs/Gossiping/M.1570171971.A.33A.html [問卦] 香港不能戴口罩該怎辦?(發$$)\n",
      "/bbs/Gossiping/M.1570171972.A.2AB.html Re: [爆卦] 香港明起實施宵禁及禁蒙面法\n",
      "/bbs/Gossiping/M.1570172030.A.34D.html [新聞] 台中2勇消殉職 蘇貞昌：不要藉悲劇做政\n",
      "/bbs/Gossiping/M.1570172050.A.5E4.html Re: [新聞] 美國移民局新規定　只能寫「台灣」\n",
      "/bbs/Gossiping/M.1570172059.A.ADF.html [問卦] 某書店廁所宣言\n",
      "/bbs/Gossiping/M.1570172062.A.AB6.html Re: [爆卦] 香港明起實施宵禁及禁蒙面法\n",
      "/bbs/Gossiping/M.1570172090.A.363.html Re: [新聞] 北市條通商家回饋金調降通過 平均打4至6\n",
      "/bbs/Gossiping/M.1570172108.A.3ED.html Re: [新聞] 消防員殉職 徐國勇：規定火場沒人 就不派\n",
      "/bbs/Gossiping/M.1570172110.A.513.html [新聞] 加油再等等！下週油價跌8角\n",
      "/bbs/Gossiping/M.1570172181.A.211.html Re: [問卦] 鋼鐵韓粉算髒話嗎？\n",
      "/bbs/Gossiping/M.1570172232.A.A4E.html [問卦] 女人要幾歲過後才會喜歡肌肉男??\n",
      "/bbs/Gossiping/M.1570172242.A.6D1.html Re: [新聞] 消防員殉職 徐國勇：規定火場沒人 就不派\n",
      "/bbs/Gossiping/M.1570172366.A.E67.html [問卦] 有沒有不鏽鋼吸管的八卦?\n",
      "----本頁的URL為https://www.ptt.cc/bbs/Gossiping/index39384.html----\n",
      "/bbs/Gossiping/M.1570170873.A.B28.html [問卦] 消防員是不是給高薪生死自負比較好\n",
      "/bbs/Gossiping/M.1570170938.A.ABE.html [問卦] 潑漆和丟鞋鋸銅像都該譴責吧？\n",
      "/bbs/Gossiping/M.1570171004.A.A8E.html [問卦] 什麼時候護照會拿掉China?\n",
      "/bbs/Gossiping/M.1570171053.A.8C4.html [新聞] 草食系志願役「2年斗內730萬」 妻兒最後才\n",
      "/bbs/Gossiping/M.1570171084.A.280.html Re: [爆卦] 中國也斷橋了！\n",
      "/bbs/Gossiping/M.1570171160.A.51B.html Fw: [討論] 韓穩了 燒出工輔法問題了\n",
      "/bbs/Gossiping/M.1570171242.A.91C.html [新聞] 歐盟法院：歐盟國家可要求臉書移除全球非\n",
      "/bbs/Gossiping/M.1570171319.A.1A8.html [問卦] 拔智齒有多痛\n",
      "/bbs/Gossiping/M.1570171320.A.732.html [問卦] 魯夫有拿弓射箭過嗎?\n",
      "/bbs/Gossiping/M.1570171342.A.408.html Re: [新聞] 柯文哲狂轟不齒、怨恨　陳菊辦酸：他的嘴\n",
      "/bbs/Gossiping/M.1570171380.A.CF0.html [新聞] 農地工廠吞噬2消防員 蘇：勿作政治運用\n",
      "/bbs/Gossiping/M.1570171388.A.9A0.html Re: [新聞] 李佳芬哭了！「曾經窮過」…她哽咽鼓勵弱勢：不要輕言\n",
      "/bbs/Gossiping/M.1570171412.A.B31.html [問卦] 鹿茸是嚴重口誤嗎？\n",
      "/bbs/Gossiping/M.1570171452.A.D34.html [新聞] 與王瞳開記者會被譙翻！網列十大「馬俊\n",
      "/bbs/Gossiping/M.1570171459.A.DBB.html Re: [問卦] 熊貓比店內貴很多\n",
      "/bbs/Gossiping/M.1570171518.A.569.html [爆卦] 香港明起實施宵禁及禁蒙面法\n",
      "/bbs/Gossiping/M.1570171519.A.4F6.html Re: [新聞] 蘇貞昌：死刑定讞 該執行就要執行\n",
      "/bbs/Gossiping/M.1570171541.A.468.html Re: [新聞] 不要命 美女子闖入獅子園區 跳舞挑釁公獅\n",
      "/bbs/Gossiping/M.1570171576.A.A3D.html [問卦] 為什麼還是有店家不用電子發票?\n",
      "/bbs/Gossiping/M.1570171604.A.27C.html [新聞] 台中工廠大火 沈榮津：工輔法修法就是讓\n"
     ]
    }
   ],
   "source": [
    "# 有要點按鈕的部分（是否已滿Ｒ18那種），抓多頁標題\n",
    "import requests\n",
    "from bs4 import BeautifulSoup\n",
    "r = requests.Session()\n",
    "url = \"https://www.ptt.cc/bbs/Gossiping/index.html\"\n",
    "for i in range(3):\n",
    "    payload ={\n",
    "         \"from\":\"/bbs/Gossiping/index.html\",\n",
    "         \"yes\":\"yes\"\n",
    "    }\n",
    "    r1 = r.post(\"https://www.ptt.cc/ask/over18?from=%2Fbbs%2FGossiping%2Findex.html\",payload)\n",
    "    r2 = r.get(url)\n",
    "    soup = BeautifulSoup(r2.text,\"html.parser\")\n",
    "    sel = soup.select(\"div.title a\")\n",
    "    u = soup.select(\"div.btn-group.btn-group-paging a\") #a標籤\n",
    "    print (\"----本頁的URL為\"+url+\"----\")\n",
    "    url = \"https://www.ptt.cc\"+ u[1][\"href\"] #上一頁的網址\n",
    "    for s in sel:\n",
    "        print(s[\"href\"],s.text)"
   ]
  },
  {
   "cell_type": "code",
   "execution_count": 2,
   "metadata": {},
   "outputs": [],
   "source": [
    "# 抓print出來的東西變成一個txt檔抓下來(file.txt)（承接：有要點按鈕的部分（是否已滿Ｒ18那種），抓多頁標題）\n",
    "# 同道理可抓圖片\n",
    "import requests\n",
    "from bs4 import BeautifulSoup\n",
    "r = requests.Session()\n",
    "url = \"https://www.ptt.cc/bbs/Gossiping/index.html\"\n",
    "f = open('file.txt', 'w')\n",
    "for i in range(3):\n",
    "    payload ={\n",
    "         \"from\":\"/bbs/Gossiping/index.html\",\n",
    "         \"yes\":\"yes\"\n",
    "    }\n",
    "    r1 = r.post(\"https://www.ptt.cc/ask/over18?from=%2Fbbs%2FGossiping%2Findex.html\",payload)\n",
    "    r2 = r.get(url)\n",
    "    soup = BeautifulSoup(r2.text,\"html.parser\")\n",
    "    sel = soup.select(\"div.title a\")\n",
    "    u = soup.select(\"div.btn-group.btn-group-paging a\") #a標籤\n",
    "    #print (\"----本頁的URL為\"+url+\"----\")  因為只是要下載檔案，暫時先關閉print\n",
    "    url = \"https://www.ptt.cc\"+ u[1][\"href\"] #上一頁的網址\n",
    "    for s in sel:\n",
    "        #print(s[\"href\"],s.text)  因為只是要下載檔案，暫時先關閉print\n",
    "        f.write(str(s[\"href\"]) + s.text+\"\\n\")\n",
    "f.close()"
   ]
  },
  {
   "cell_type": "code",
   "execution_count": null,
   "metadata": {},
   "outputs": [],
   "source": []
  },
  {
   "cell_type": "code",
   "execution_count": null,
   "metadata": {},
   "outputs": [],
   "source": []
  }
 ],
 "metadata": {
  "kernelspec": {
   "display_name": "Python 3",
   "language": "python",
   "name": "python3"
  },
  "language_info": {
   "codemirror_mode": {
    "name": "ipython",
    "version": 3
   },
   "file_extension": ".py",
   "mimetype": "text/x-python",
   "name": "python",
   "nbconvert_exporter": "python",
   "pygments_lexer": "ipython3",
   "version": "3.7.3"
  }
 },
 "nbformat": 4,
 "nbformat_minor": 4
}
